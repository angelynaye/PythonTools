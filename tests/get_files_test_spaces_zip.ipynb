{
 "cells": [
  {
   "cell_type": "code",
   "execution_count": 4,
   "metadata": {},
   "outputs": [
    {
     "name": "stdout",
     "output_type": "stream",
     "text": [
      "-----\n",
      "Scraping from http://www.inegi.org.mx/est/contenidos/proyectos/accesomicrodatos/ce1999/default.aspx\n",
      "-----\n",
      "Successfully downloaded CE99%20CUEST%20ADMINISTRACION%20PORTUARIA%20INTEGRAL.pdf\n",
      "Successfully downloaded CE99%20CUEST%20TELECOMUNICACIONES.pdf\n",
      "Successfully downloaded CE99%20CUEST%20TELEFONIA.pdf\n",
      "Successfully downloaded CE99%20CUEST%20SERVICIOS%20POSTALES.pdf\n",
      "Successfully downloaded CE99%20CUEST%20AUTOTRANSPORTE%20PASAJEROS%20Y%20CARGA.pdf\n",
      "Successfully downloaded CE99%20CUEST%20COMERCIO%20SEG.pdf\n",
      "Successfully downloaded CE99%20CUEST%20COMERCIO%20TRAD.pdf\n",
      "Successfully downloaded CE99%20CUEST%20EXTRACCION%20DE%20PETROLEO%20Y%20GAS.pdf\n",
      "Successfully downloaded CE99%20CUEST%20HOTELES.pdf\n",
      "Successfully downloaded CE99%20CUEST%20CONSTRUCCION.pdf\n",
      "Successfully downloaded CE99%20CUEST%20INDUSTRIA%20ELECTRICA.pdf\n",
      "Successfully downloaded CE99%20CUEST%20INSTITUCIONES%20BANCARIAS%20Y%20CREDITICIAS.pdf\n",
      "Successfully downloaded CE99%20CUEST%20SEGUROS%20Y%20FIANZAS.pdf\n",
      "Successfully downloaded CE99%20CUEST%20MERCADO%20DE%20VALORES.pdf\n",
      "Successfully downloaded CE99%20CUEST%20MANUFACTURAS%20SEG.pdf\n",
      "Successfully downloaded CE99%20CUEST%20MANUFACTURAS%20TRADICIONAL.pdf\n",
      "Successfully downloaded CE99%20CUEST%20ORGANISMOS%20OPERADORES%20DE%20AGUA.pdf\n",
      "Successfully downloaded CE99%20CUEST%20PESCA%20Y%20ACUACULTURA.pdf\n",
      "Successfully downloaded CE99%20CUEST%20PLANTELES%20EDUCATIVOS.pdf\n",
      "Successfully downloaded CE99%20CUEST%20REFINACION%20DE%20PETROLEO%20Y%20PETROQUIMICA.pdf\n",
      "Successfully downloaded CE99%20CUEST%20SERVICIOS%20SEG.pdf\n",
      "Successfully downloaded CE99%20CUEST%20SERVICIOS%20TRAD.pdf\n",
      "Successfully downloaded CE99%20CUEST%20TRANSPORTE%20AEREO%20EXTRANJERO.pdf\n",
      "Successfully downloaded CE99%20CUEST%20TRANSPORTE%20AEREO%20NACIONAL.pdf\n",
      "Successfully downloaded CE99%20CUEST%20TRANSPORTE%20ELECTRICO.pdf\n",
      "Successfully downloaded CE99%20CUEST%20TRANSPORTE%20FERROVIARIO.pdf\n",
      "Successfully downloaded CE99%20CUEST%20TRANSPORTE%20POR%20AGUA.pdf\n",
      "Successfully downloaded CE99%20CUEST%20TRANSPORTE%20POR%20DUCTOS.pdf\n",
      "Successfully downloaded CE99%20CUEST%20UNIDADES%20AUXILIARES.pdf\n",
      "Successfully downloaded CE99%20CUEST%20UNIDADES%20MINERAS.pdf\n",
      "Successfully downloaded variables_disponibles_ce1999.xlsx\n",
      "Successfully downloaded ce1999.dta\n",
      "Successfully downloaded ce1999.xlsx\n",
      "-----\n",
      "Finished sraping from http://www.inegi.org.mx/est/contenidos/proyectos/accesomicrodatos/ce1999/default.aspx\n",
      "-----\n"
     ]
    }
   ],
   "source": [
    "import sys\n",
    "sys.path.append('/Users/yeyilin/desktop/URAP/POS/PythonTools')\n",
    "\n",
    "from get_files import get_files\n",
    "\n",
    "url_base = 'http://www.inegi.org.mx/est/contenidos/proyectos/accesomicrodatos/ce1999/default.aspx'\n",
    "\n",
    "get_files.get_files(url_base,[],True,'pdf','xls','dbf','zip','xlsx','dta','csv')"
   ]
  },
  {
   "cell_type": "code",
   "execution_count": 2,
   "metadata": {},
   "outputs": [
    {
     "name": "stdout",
     "output_type": "stream",
     "text": [
      "-----\n",
      "Scraping from http://www.inegi.org.mx/est/contenidos/proyectos/accesomicrodatos/ce2009/default.aspx\n",
      "-----\n",
      "Error downloading:  http://www.inegi.org.mx/?_file=/est/contenidos/Proyectos/accesomicrodatos/ce2009/doc/ce2009_dbf.zip\n",
      "File is not a zip file\n",
      "Error downloading:  http://www.inegi.org.mx/?_file=/est/contenidos/Proyectos/accesomicrodatos/ce2009/doc/ce2009_dta.zip\n",
      "File is not a zip file\n",
      "Error downloading:  http://www.inegi.org.mx/?_file=/est/contenidos/Proyectos/accesomicrodatos/ce2009/doc/CE2009_xlsx.zip\n",
      "File is not a zip file\n",
      "Error downloading:  http://www.inegi.org.mx/?_file=/est/contenidos/Proyectos/accesomicrodatos/ce2009/doc/CE2009_CSV.zip\n",
      "File is not a zip file\n",
      "-----\n",
      "Finished sraping from http://www.inegi.org.mx/est/contenidos/proyectos/accesomicrodatos/ce2009/default.aspx\n",
      "-----\n"
     ]
    }
   ],
   "source": [
    "import sys\n",
    "sys.path.append('/Users/yeyilin/desktop/URAP/POS/PythonTools')\n",
    "\n",
    "from get_files import get_files\n",
    "\n",
    "base = '/Users/'\n",
    "url_base = 'http://www.inegi.org.mx/est/contenidos/proyectos/accesomicrodatos/ce2009/default.aspx'\n",
    "urlbase = 'http://www.inegi.org.mx'  #change this line whenever you change the website to scrape\n",
    "folder_base = base + 'yeyilin/desktop/URAP/POS/Data2'\n",
    "\n",
    "\n",
    "get_files.get_files(url_base,folder_base,True,'zip')"
   ]
  },
  {
   "cell_type": "code",
   "execution_count": null,
   "metadata": {},
   "outputs": [],
   "source": []
  }
 ],
 "metadata": {
  "kernelspec": {
   "display_name": "Python 3",
   "language": "python",
   "name": "python3"
  },
  "language_info": {
   "codemirror_mode": {
    "name": "ipython",
    "version": 3
   },
   "file_extension": ".py",
   "mimetype": "text/x-python",
   "name": "python",
   "nbconvert_exporter": "python",
   "pygments_lexer": "ipython3",
   "version": "3.6.4"
  }
 },
 "nbformat": 4,
 "nbformat_minor": 2
}
